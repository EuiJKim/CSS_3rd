{
 "cells": [
  {
   "cell_type": "code",
   "execution_count": 41,
   "metadata": {
    "collapsed": true
   },
   "outputs": [],
   "source": [
    "#class : account\n",
    "#첫문자는 대문자 \n",
    "class Account:\n",
    "    #생성자\n",
    "    #멤버의 초기화\n",
    "    def __init__(self, name, money):\n",
    "        #instance member : 연관있는 변수 \n",
    "        self.user = name\n",
    "        self.balance = money\n",
    "    \n",
    "    #소멸자\n",
    "    #주 목적은 메모리의 해제\n",
    "    #거의 쓰이지 않아요 \n",
    "    def __del__(self):\n",
    "        print(\"Account object deleted!!\")\n",
    "    \n",
    "    #instance method : 연관있는 함수\n",
    "    def deposit(self, money):\n",
    "        if money <= 0:\n",
    "            return None\n",
    "        else:\n",
    "            self.balance += money\n",
    "            return self.balance \n",
    "    \n",
    "    def withdraw(self, money):\n",
    "        '''\n",
    "        obj.withdraw(money) -> bool\n",
    "        '''\n",
    "        if money <= self.balance:\n",
    "            self.balance -= money\n",
    "            return True\n",
    "        else:\n",
    "            return False\n",
    "    \n",
    "    #message passing\n",
    "    def transfer(self, other, money):\n",
    "        res = self.withdraw(money)\n",
    "        if res:\n",
    "            #다른 객체의 함수를 호출 -> 내부 정보를 바꾼다. \n",
    "            other.deposit(money)\n",
    "            return True\n",
    "        else:\n",
    "            return False\n",
    "    \n",
    "    def __str__(self):\n",
    "        return '{} : {}'.format(self.user, self.balance)\n",
    "    "
   ]
  },
  {
   "cell_type": "code",
   "execution_count": 42,
   "metadata": {},
   "outputs": [],
   "source": [
    "#class : 찍어내는 틀\n",
    "#object : 실제로 존재하는 객체 \n",
    "my_acnt = Account('greg', 5000)\n",
    "your_acnt = Account('john', 1000)"
   ]
  },
  {
   "cell_type": "code",
   "execution_count": 43,
   "metadata": {},
   "outputs": [
    {
     "name": "stdout",
     "output_type": "stream",
     "text": [
      "greg : 5000\n",
      "john : 1000\n"
     ]
    }
   ],
   "source": [
    "print(my_acnt)\n",
    "print(your_acnt)"
   ]
  },
  {
   "cell_type": "code",
   "execution_count": 44,
   "metadata": {},
   "outputs": [
    {
     "data": {
      "text/plain": [
       "7000"
      ]
     },
     "execution_count": 44,
     "metadata": {},
     "output_type": "execute_result"
    }
   ],
   "source": [
    "#1. object로 method 호출\n",
    "my_acnt.deposit(2000)"
   ]
  },
  {
   "cell_type": "code",
   "execution_count": 45,
   "metadata": {},
   "outputs": [
    {
     "name": "stdout",
     "output_type": "stream",
     "text": [
      "greg : 7000\n"
     ]
    }
   ],
   "source": [
    "print(my_acnt)"
   ]
  },
  {
   "cell_type": "code",
   "execution_count": 46,
   "metadata": {},
   "outputs": [
    {
     "data": {
      "text/plain": [
       "4000"
      ]
     },
     "execution_count": 46,
     "metadata": {},
     "output_type": "execute_result"
    }
   ],
   "source": [
    "your_acnt.deposit(3000)"
   ]
  },
  {
   "cell_type": "code",
   "execution_count": 47,
   "metadata": {},
   "outputs": [
    {
     "name": "stdout",
     "output_type": "stream",
     "text": [
      "john : 4000\n"
     ]
    }
   ],
   "source": [
    "print(your_acnt)"
   ]
  },
  {
   "cell_type": "code",
   "execution_count": 48,
   "metadata": {},
   "outputs": [],
   "source": [
    "#del my_acnt"
   ]
  },
  {
   "cell_type": "code",
   "execution_count": 49,
   "metadata": {},
   "outputs": [
    {
     "name": "stdout",
     "output_type": "stream",
     "text": [
      "greg : 7000\n",
      "john : 4000\n"
     ]
    }
   ],
   "source": [
    "print(my_acnt)\n",
    "print(your_acnt)"
   ]
  },
  {
   "cell_type": "code",
   "execution_count": 50,
   "metadata": {},
   "outputs": [
    {
     "data": {
      "text/plain": [
       "True"
      ]
     },
     "execution_count": 50,
     "metadata": {},
     "output_type": "execute_result"
    }
   ],
   "source": [
    "my_acnt.transfer(your_acnt, 3000)"
   ]
  },
  {
   "cell_type": "code",
   "execution_count": 52,
   "metadata": {},
   "outputs": [
    {
     "name": "stdout",
     "output_type": "stream",
     "text": [
      "greg : 4000\n",
      "john : 7000\n"
     ]
    }
   ],
   "source": [
    "#message passing(interaction with objects)\n",
    "print(my_acnt)\n",
    "print(your_acnt)"
   ]
  },
  {
   "cell_type": "code",
   "execution_count": null,
   "metadata": {
    "collapsed": true
   },
   "outputs": [],
   "source": []
  }
 ],
 "metadata": {
  "kernelspec": {
   "display_name": "Python 3",
   "language": "python",
   "name": "python3"
  },
  "language_info": {
   "codemirror_mode": {
    "name": "ipython",
    "version": 3
   },
   "file_extension": ".py",
   "mimetype": "text/x-python",
   "name": "python",
   "nbconvert_exporter": "python",
   "pygments_lexer": "ipython3",
   "version": "3.6.1"
  }
 },
 "nbformat": 4,
 "nbformat_minor": 2
}
