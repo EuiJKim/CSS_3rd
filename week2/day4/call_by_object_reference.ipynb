{
 "cells": [
  {
   "cell_type": "code",
   "execution_count": 30,
   "metadata": {},
   "outputs": [
    {
     "name": "stdout",
     "output_type": "stream",
     "text": [
      "c is a? :  True\n",
      "d is b? :  True\n",
      "after change\n",
      "c is a? :  False\n",
      "d is b? :  True\n"
     ]
    }
   ],
   "source": [
    "def func(c, d):\n",
    "    print('c is a? : ', c is a)\n",
    "    print('d is b? : ', d is b)\n",
    "    c = 70\n",
    "    print('after change')\n",
    "    print('c is a? : ', c is a)\n",
    "    print('d is b? : ', d is b)\n",
    "    \n",
    "a = 10\n",
    "b = 20\n",
    "func(a, b)"
   ]
  },
  {
   "cell_type": "code",
   "execution_count": 33,
   "metadata": {},
   "outputs": [
    {
     "name": "stdout",
     "output_type": "stream",
     "text": [
      "data is li :  True\n",
      "data is li :  True\n"
     ]
    }
   ],
   "source": [
    "def func(data, idx, value):\n",
    "    print('data is li : ', data is li)\n",
    "    data[idx] = value\n",
    "    print('data is li : ', data is li)\n",
    "    \n",
    "li = [1, 2, 3, 4]\n",
    "func(li, 0, 17)"
   ]
  },
  {
   "cell_type": "code",
   "execution_count": 34,
   "metadata": {},
   "outputs": [
    {
     "name": "stdout",
     "output_type": "stream",
     "text": [
      "data is li :  True\n",
      "data is li :  False\n"
     ]
    }
   ],
   "source": [
    "def func(data, value):\n",
    "    print('data is li : ', data is li)\n",
    "    data = value\n",
    "    print('data is li : ', data is li)\n",
    "    \n",
    "li = [1, 2, 3, 4]\n",
    "func(li, [10, 20, 30, 40])"
   ]
  },
  {
   "cell_type": "code",
   "execution_count": 1,
   "metadata": {
    "collapsed": true
   },
   "outputs": [],
   "source": [
    "a = 1024\n",
    "b = 1024"
   ]
  },
  {
   "cell_type": "code",
   "execution_count": 2,
   "metadata": {},
   "outputs": [
    {
     "data": {
      "text/plain": [
       "False"
      ]
     },
     "execution_count": 2,
     "metadata": {},
     "output_type": "execute_result"
    }
   ],
   "source": [
    "a is b"
   ]
  },
  {
   "cell_type": "code",
   "execution_count": 3,
   "metadata": {
    "collapsed": true
   },
   "outputs": [],
   "source": [
    "a = 'abcde'\n",
    "b = 'abcde'"
   ]
  },
  {
   "cell_type": "code",
   "execution_count": 4,
   "metadata": {},
   "outputs": [
    {
     "data": {
      "text/plain": [
       "True"
      ]
     },
     "execution_count": 4,
     "metadata": {},
     "output_type": "execute_result"
    }
   ],
   "source": [
    "a == b"
   ]
  },
  {
   "cell_type": "code",
   "execution_count": 5,
   "metadata": {},
   "outputs": [
    {
     "data": {
      "text/plain": [
       "True"
      ]
     },
     "execution_count": 5,
     "metadata": {},
     "output_type": "execute_result"
    }
   ],
   "source": [
    "a is b"
   ]
  },
  {
   "cell_type": "code",
   "execution_count": null,
   "metadata": {
    "collapsed": true
   },
   "outputs": [],
   "source": []
  }
 ],
 "metadata": {
  "kernelspec": {
   "display_name": "Python 3",
   "language": "python",
   "name": "python3"
  },
  "language_info": {
   "codemirror_mode": {
    "name": "ipython",
    "version": 3
   },
   "file_extension": ".py",
   "mimetype": "text/x-python",
   "name": "python",
   "nbconvert_exporter": "python",
   "pygments_lexer": "ipython3",
   "version": "3.6.1"
  }
 },
 "nbformat": 4,
 "nbformat_minor": 2
}
