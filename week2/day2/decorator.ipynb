{
 "cells": [
  {
   "cell_type": "code",
   "execution_count": 5,
   "metadata": {},
   "outputs": [
    {
     "name": "stdout",
     "output_type": "stream",
     "text": [
      "Things\n"
     ]
    },
    {
     "data": {
      "text/plain": [
       "8"
      ]
     },
     "execution_count": 5,
     "metadata": {},
     "output_type": "execute_result"
    }
   ],
   "source": [
    "def outer(func):\n",
    "    def inner(*args, **kwargs):\n",
    "        print(\"Things\")\n",
    "        return func(*args, **kwargs)\n",
    "    return inner\n",
    "\n",
    "@outer\n",
    "def adder(a, b):\n",
    "    return a + b\n",
    "\n",
    "#adder = outer(adder)\n",
    "\n",
    "c = adder(5, 3)\n",
    "c"
   ]
  },
  {
   "cell_type": "code",
   "execution_count": 7,
   "metadata": {},
   "outputs": [
    {
     "name": "stdout",
     "output_type": "stream",
     "text": [
      "call number : 1\n",
      "5\n",
      "call number : 2\n",
      "7\n",
      "call number : 3\n",
      "9\n",
      "call number : 4\n",
      "11\n",
      "call number : 5\n",
      "13\n",
      "call number : 6\n",
      "15\n",
      "call number : 7\n",
      "17\n",
      "call number : 8\n",
      "19\n",
      "call number : 9\n",
      "21\n",
      "call number : 10\n",
      "23\n"
     ]
    }
   ],
   "source": [
    "#추가 하고 싶은 기능 : 함수의 호출 횟수\n",
    "def call_count(func):\n",
    "    cnt = 0\n",
    "    def inner(*args, **kwargs):\n",
    "        nonlocal cnt\n",
    "        cnt += 1\n",
    "        print(\"call number : {}\".format(cnt))\n",
    "        return func(*args, **kwargs)\n",
    "    return inner\n",
    "\n",
    "@call_count\n",
    "def adder(a, b):\n",
    "    return a + b\n",
    "        \n",
    "for i in range(1, 11):\n",
    "    a = i + 1\n",
    "    b = i + 2\n",
    "    print(adder(a, b))"
   ]
  },
  {
   "cell_type": "code",
   "execution_count": 13,
   "metadata": {},
   "outputs": [
    {
     "name": "stdout",
     "output_type": "stream",
     "text": [
      "2.0\n"
     ]
    }
   ],
   "source": [
    "import time\n",
    "#time.sleep(n) : n초 멈춰\n",
    "start = time.time()\n",
    "time.sleep(2)\n",
    "elapsed = time.time() - start\n",
    "\n",
    "print(round(elapsed, 1))\n",
    "#round : 반올림\n",
    "#round(3.112352523435235235, 1)"
   ]
  },
  {
   "cell_type": "code",
   "execution_count": 14,
   "metadata": {},
   "outputs": [
    {
     "name": "stdout",
     "output_type": "stream",
     "text": [
      "Help on built-in function time in module time:\n",
      "\n",
      "time(...)\n",
      "    time() -> floating point number\n",
      "    \n",
      "    Return the current time in seconds since the Epoch.\n",
      "    Fractions of a second may be present if the system clock provides them.\n",
      "\n"
     ]
    }
   ],
   "source": [
    "help(time.time)"
   ]
  },
  {
   "cell_type": "code",
   "execution_count": 15,
   "metadata": {},
   "outputs": [
    {
     "data": {
      "text/plain": [
       "1501575995.1015897"
      ]
     },
     "execution_count": 15,
     "metadata": {},
     "output_type": "execute_result"
    }
   ],
   "source": [
    "time.time()#1970년 1월 1일 0시 0분 0초 "
   ]
  },
  {
   "cell_type": "code",
   "execution_count": 19,
   "metadata": {},
   "outputs": [
    {
     "name": "stdout",
     "output_type": "stream",
     "text": [
      "call number : 1\n",
      "elapsed time : 3.0 sec\n"
     ]
    },
    {
     "data": {
      "text/plain": [
       "20"
      ]
     },
     "execution_count": 19,
     "metadata": {},
     "output_type": "execute_result"
    }
   ],
   "source": [
    "import time\n",
    "def timer(func):\n",
    "    def inner(*args, **kwargs):\n",
    "        start = time.time()\n",
    "        ret = func(*args, **kwargs)\n",
    "        elapsed = time.time() - start\n",
    "        print('elapsed time : {} sec'.format(round(elapsed, 1)))\n",
    "        return ret\n",
    "    return inner\n",
    "\n",
    "@call_count\n",
    "@timer\n",
    "def mul(a, b):\n",
    "    time.sleep(3)\n",
    "    return a * b\n",
    "\n",
    "mul(5, 4)"
   ]
  },
  {
   "cell_type": "code",
   "execution_count": 23,
   "metadata": {},
   "outputs": [
    {
     "name": "stdout",
     "output_type": "stream",
     "text": [
      "greg\n",
      "call number : 1\n",
      "greg\n",
      "elapsed time : 3.0 sec\n"
     ]
    },
    {
     "data": {
      "text/plain": [
       "9"
      ]
     },
     "execution_count": 23,
     "metadata": {},
     "output_type": "execute_result"
    }
   ],
   "source": [
    "from functools import wraps\n",
    "\n",
    "def call_count(func):\n",
    "    cnt = 0\n",
    "    @wraps(func)\n",
    "    def inner_count(*args, **kwargs):\n",
    "        print(func.__name__)\n",
    "        nonlocal cnt\n",
    "        cnt += 1\n",
    "        print(\"call number : {}\".format(cnt))\n",
    "        return func(*args, **kwargs)\n",
    "    return inner_count\n",
    "\n",
    "import time\n",
    "def timer(func):\n",
    "    @wraps(func)\n",
    "    def inner_timer(*args, **kwargs):\n",
    "        print(func.__name__)\n",
    "        start = time.time()\n",
    "        ret = func(*args, **kwargs)\n",
    "        elapsed = time.time() - start\n",
    "        print('elapsed time : {} sec'.format(round(elapsed, 1)))\n",
    "        return ret\n",
    "    return inner_timer\n",
    "\n",
    "@call_count\n",
    "@timer\n",
    "def greg(a, b):\n",
    "    time.sleep(3)\n",
    "    return a + b\n",
    "\n",
    "greg(5 ,4)"
   ]
  },
  {
   "cell_type": "code",
   "execution_count": null,
   "metadata": {
    "collapsed": true
   },
   "outputs": [],
   "source": []
  }
 ],
 "metadata": {
  "kernelspec": {
   "display_name": "Python 3",
   "language": "python",
   "name": "python3"
  },
  "language_info": {
   "codemirror_mode": {
    "name": "ipython",
    "version": 3
   },
   "file_extension": ".py",
   "mimetype": "text/x-python",
   "name": "python",
   "nbconvert_exporter": "python",
   "pygments_lexer": "ipython3",
   "version": "3.6.1"
  }
 },
 "nbformat": 4,
 "nbformat_minor": 2
}
